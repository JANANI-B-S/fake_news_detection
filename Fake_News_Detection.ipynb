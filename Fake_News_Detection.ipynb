{
  "cells": [
    {
      "cell_type": "markdown",
      "metadata": {
        "id": "view-in-github",
        "colab_type": "text"
      },
      "source": [
        "<a href=\"https://colab.research.google.com/github/JANANI-B-S/fake_news_detection/blob/main/Fake_News_Detection.ipynb\" target=\"_parent\"><img src=\"https://colab.research.google.com/assets/colab-badge.svg\" alt=\"Open In Colab\"/></a>"
      ]
    },
    {
      "cell_type": "code",
      "execution_count": null,
      "metadata": {
        "id": "ETnmfozBoJH-"
      },
      "outputs": [],
      "source": [
        "!pip install pandas scikit-learn streamlit cloudflared\n"
      ]
    },
    {
      "cell_type": "code",
      "execution_count": 19,
      "metadata": {
        "id": "EU2BY8cLoMAz",
        "colab": {
          "base_uri": "https://localhost:8080/"
        },
        "outputId": "b082b013-5116-4d30-bfc0-64974fc8ae26"
      },
      "outputs": [
        {
          "output_type": "stream",
          "name": "stdout",
          "text": [
            "Accuracy: 0.982739420935412\n"
          ]
        }
      ],
      "source": [
        "import pandas as pd\n",
        "from sklearn.feature_extraction.text import TfidfVectorizer\n",
        "from sklearn.model_selection import train_test_split\n",
        "from sklearn.linear_model import LogisticRegression\n",
        "import pickle\n",
        "from sklearn.metrics import accuracy_score\n",
        "# Load datasets\n",
        "fake = pd.read_csv('/content/sample_data/fake.csv')\n",
        "true = pd.read_csv('/content/sample_data/true.csv')\n",
        "\n",
        "# Label datasets\n",
        "fake['label'] = 0\n",
        "true['label'] = 1\n",
        "\n",
        "# Combine datasets\n",
        "data = pd.concat([fake, true]).reset_index(drop=True)\n",
        "\n",
        "# Shuffle data\n",
        "data = data.sample(frac=1).reset_index(drop=True)\n",
        "\n",
        "# Split features and labels\n",
        "X = data['text']\n",
        "y = data['label']\n",
        "\n",
        "# Vectorize text\n",
        "vectorizer = TfidfVectorizer(stop_words='english', max_df=0.7)\n",
        "X_vectorized = vectorizer.fit_transform(X)\n",
        "\n",
        "# Train/test split\n",
        "X_train, X_test, y_train, y_test = train_test_split(X_vectorized, y, test_size=0.2, random_state=42)\n",
        "\n",
        "# Train model\n",
        "model = LogisticRegression()\n",
        "model.fit(X_train, y_train)\n",
        "# Evaluate the model\n",
        "y_pred = model.predict(X_test)\n",
        "accuracy = accuracy_score(y_test, y_pred)\n",
        "print(f\"Accuracy: {accuracy}\")\n",
        "# Save model and vectorizer\n",
        "with open('model.pkl', 'wb') as model_file:\n",
        "    pickle.dump(model, model_file)\n",
        "\n",
        "with open('vectorizer.pkl', 'wb') as vectorizer_file:\n",
        "    pickle.dump(vectorizer, vectorizer_file)\n"
      ]
    },
    {
      "cell_type": "code",
      "source": [
        "def predict_news(news):\n",
        "    vectorized_news = vectorizer.transform([news])\n",
        "    prediction = model.predict(vectorized_news)\n",
        "    return \"True News\" if prediction[0] == 1 else \"Fake News\"\n",
        "\n",
        "# User input for news\n",
        "news_input = input(\"Enter the news text to check if it's Fake or True: \")\n",
        "\n",
        "# Make prediction\n",
        "result = predict_news(news_input)\n",
        "\n",
        "# Display result\n",
        "print(\"\\nPrediction:\", result)"
      ],
      "metadata": {
        "colab": {
          "base_uri": "https://localhost:8080/"
        },
        "id": "5-iRj5xuvtoq",
        "outputId": "8a445423-17b8-4796-fa72-53864ab23436"
      },
      "execution_count": 21,
      "outputs": [
        {
          "output_type": "stream",
          "name": "stdout",
          "text": [
            "Enter the news text to check if it's Fake or True: A woman with her hands behind her back surrounded by two officers, one shining a bright light at the camera, in a blurry image Woman sentenced in case that sparked Springfield cat-eating rumours\n",
            "\n",
            "Prediction: Fake News\n"
          ]
        }
      ]
    },
    {
      "cell_type": "code",
      "execution_count": 22,
      "metadata": {
        "id": "3fLC_JARoctZ"
      },
      "outputs": [],
      "source": [
        "with open('app.py', 'w') as file:\n",
        "    file.write(\"\"\"\n",
        "import streamlit as st\n",
        "import pickle\n",
        "\n",
        "# Load model and vectorizer\n",
        "with open('model.pkl', 'rb') as model_file:\n",
        "    model = pickle.load(model_file)\n",
        "\n",
        "with open('vectorizer.pkl', 'rb') as vectorizer_file:\n",
        "    vectorizer = pickle.load(vectorizer_file)\n",
        "\n",
        "# Streamlit App\n",
        "st.title(\"Fake News Detection\")\n",
        "st.write(\"Enter a news article below to check whether it's fake or real:\")\n",
        "\n",
        "news = st.text_area(\"News Text\")\n",
        "\n",
        "if st.button(\"Predict\"):\n",
        "    if not news.strip():\n",
        "        st.error(\"Please enter some news text to predict.\")\n",
        "    else:\n",
        "        vectorized_news = vectorizer.transform([news])\n",
        "        prediction = model.predict(vectorized_news)\n",
        "        result = \"True News\" if prediction[0] == 1 else \"Fake News\"\n",
        "        st.success(f\"Prediction: {result}\")\n",
        "    \"\"\")\n"
      ]
    },
    {
      "cell_type": "code",
      "execution_count": 23,
      "metadata": {
        "colab": {
          "base_uri": "https://localhost:8080/"
        },
        "id": "6TgFoLCiohX8",
        "outputId": "1a3e02f6-6a09-41f5-d0b8-b298bed6dbca"
      },
      "outputs": [
        {
          "output_type": "stream",
          "name": "stdout",
          "text": [
            "\u001b[1G\u001b[0K⠙\u001b[1G\u001b[0K⠹\u001b[1G\u001b[0K⠸\u001b[1G\u001b[0K⠼\u001b[1G\u001b[0K⠴\u001b[1G\u001b[0K⠦\u001b[1G\u001b[0K⠧\u001b[1G\u001b[0K⠇\u001b[1G\u001b[0K\u001b[90m2024-12-08T14:57:15Z\u001b[0m \u001b[32mINF\u001b[0m Thank you for trying Cloudflare Tunnel. Doing so, without a Cloudflare account, is a quick way to experiment and try it out. However, be aware that these account-less Tunnels have no uptime guarantee, are subject to the Cloudflare Online Services Terms of Use (https://www.cloudflare.com/website-terms/), and Cloudflare reserves the right to investigate your use of Tunnels for violations of such terms. If you intend to use Tunnels in production you should use a pre-created named tunnel by following: https://developers.cloudflare.com/cloudflare-one/connections/connect-apps\n",
            "\u001b[90m2024-12-08T14:57:15Z\u001b[0m \u001b[32mINF\u001b[0m Requesting new quick Tunnel on trycloudflare.com...\n",
            "\u001b[90m2024-12-08T14:57:19Z\u001b[0m \u001b[32mINF\u001b[0m +--------------------------------------------------------------------------------------------+\n",
            "\u001b[90m2024-12-08T14:57:19Z\u001b[0m \u001b[32mINF\u001b[0m |  Your quick Tunnel has been created! Visit it at (it may take some time to be reachable):  |\n",
            "\u001b[90m2024-12-08T14:57:19Z\u001b[0m \u001b[32mINF\u001b[0m |  https://moscow-adapter-tours-anticipated.trycloudflare.com                                |\n",
            "\u001b[90m2024-12-08T14:57:19Z\u001b[0m \u001b[32mINF\u001b[0m +--------------------------------------------------------------------------------------------+\n",
            "\u001b[90m2024-12-08T14:57:19Z\u001b[0m \u001b[32mINF\u001b[0m Cannot determine default configuration path. No file [config.yml config.yaml] in [~/.cloudflared ~/.cloudflare-warp ~/cloudflare-warp /etc/cloudflared /usr/local/etc/cloudflared]\n",
            "\u001b[90m2024-12-08T14:57:19Z\u001b[0m \u001b[32mINF\u001b[0m Version 2024.11.1 (Checksum 55d789465955ccfffcd61ba72807a2a4495002f7d9b7cc5eadcaa1f93c279d25)\n",
            "\u001b[90m2024-12-08T14:57:19Z\u001b[0m \u001b[32mINF\u001b[0m GOOS: linux, GOVersion: go1.22.5, GoArch: amd64\n",
            "\u001b[90m2024-12-08T14:57:19Z\u001b[0m \u001b[32mINF\u001b[0m Settings: map[ha-connections:1 protocol:quic url:http://localhost:8501]\n",
            "\u001b[90m2024-12-08T14:57:19Z\u001b[0m \u001b[32mINF\u001b[0m cloudflared will not automatically update when run from the shell. To enable auto-updates, run cloudflared as a service: https://developers.cloudflare.com/cloudflare-one/connections/connect-apps/run-tunnel/as-a-service/\n",
            "\u001b[90m2024-12-08T14:57:19Z\u001b[0m \u001b[32mINF\u001b[0m Generated Connector ID: 8dd4489f-113d-4635-b5d5-3020d2489e87\n",
            "\u001b[90m2024-12-08T14:57:19Z\u001b[0m \u001b[32mINF\u001b[0m Initial protocol quic\n",
            "\u001b[90m2024-12-08T14:57:19Z\u001b[0m \u001b[32mINF\u001b[0m ICMP proxy will use 172.28.0.12 as source for IPv4\n",
            "\u001b[90m2024-12-08T14:57:19Z\u001b[0m \u001b[32mINF\u001b[0m ICMP proxy will use :: as source for IPv6\n",
            "\u001b[90m2024-12-08T14:57:19Z\u001b[0m \u001b[32mINF\u001b[0m Starting metrics server on 127.0.0.1:35385/metrics\n",
            "2024/12/08 14:57:19 failed to sufficiently increase receive buffer size (was: 208 kiB, wanted: 7168 kiB, got: 416 kiB). See https://github.com/quic-go/quic-go/wiki/UDP-Buffer-Sizes for details.\n",
            "\u001b[90m2024-12-08T14:57:19Z\u001b[0m \u001b[32mINF\u001b[0m Registered tunnel connection \u001b[36mconnIndex=\u001b[0m0 \u001b[36mconnection=\u001b[0m2477e6f3-270d-4dcb-8a60-2cc2a8d75b3d \u001b[36mevent=\u001b[0m0 \u001b[36mip=\u001b[0m198.41.192.77 \u001b[36mlocation=\u001b[0msea05 \u001b[36mprotocol=\u001b[0mquic\n",
            "\u001b[90m2024-12-08T14:57:34Z\u001b[0m \u001b[32mINF\u001b[0m Initiating graceful shutdown due to signal interrupt ...\n",
            "^C\n"
          ]
        }
      ],
      "source": [
        "!streamlit run app.py &>/content/logs.txt &\n",
        "!npx cloudflared tunnel --url http://localhost:8501\n"
      ]
    }
  ],
  "metadata": {
    "colab": {
      "provenance": [],
      "authorship_tag": "ABX9TyPTaC/nq/t9j2RNO2uOOFVK",
      "include_colab_link": true
    },
    "kernelspec": {
      "display_name": "Python 3",
      "name": "python3"
    },
    "language_info": {
      "name": "python"
    }
  },
  "nbformat": 4,
  "nbformat_minor": 0
}